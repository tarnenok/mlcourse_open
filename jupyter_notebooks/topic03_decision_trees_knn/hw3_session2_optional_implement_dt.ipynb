{
 "cells": [
  {
   "cell_type": "markdown",
   "metadata": {},
   "source": [
    "<center>\n",
    "<img src=\"../../img/ods_stickers.jpg\">\n",
    "## Открытый курс по машинному обучению. Сессия № 2\n",
    "</center>\n",
    "Авторы материала: аспирант Мехмата МГУ Евгений Колмаков, программист-исследователь Mail.ru Group, старший преподаватель Факультета Компьютерных Наук ВШЭ Юрий Кашницкий. Материал распространяется на условиях лицензии [Creative Commons CC BY-NC-SA 4.0](https://creativecommons.org/licenses/by-nc-sa/4.0/). Можно использовать в любых целях (редактировать, поправлять и брать за основу), кроме коммерческих, но с обязательным упоминанием автора материала."
   ]
  },
  {
   "cell_type": "markdown",
   "metadata": {},
   "source": [
    "# <center>Домашнее задание № 3. Опциональная часть \n",
    "## <center> Реализация алгоритма построения дерева решений"
   ]
  },
  {
   "cell_type": "code",
   "execution_count": 2,
   "metadata": {
    "collapsed": true
   },
   "outputs": [],
   "source": [
    "import numpy as np\n",
    "from matplotlib import pyplot as plt\n",
    "%matplotlib inline\n",
    "from sklearn.base import BaseEstimator\n",
    "from sklearn.datasets import make_classification, make_regression, load_digits, load_boston\n",
    "from sklearn.model_selection import train_test_split, GridSearchCV\n",
    "from sklearn.metrics import accuracy_score, mean_squared_error"
   ]
  },
  {
   "cell_type": "markdown",
   "metadata": {
    "collapsed": true
   },
   "source": [
    "**Необходимо реализовать класс `DecisionTree`**\n",
    "\n",
    "**Спецификация:**\n",
    "- класс наследуется от `sklearn.BaseEstimator`;\n",
    "- конструктор содержит следующие параметры: \n",
    "    `max_depth` - максимальная глубина дерева (по умолчанию - `numpy.inf`); \n",
    "    `min_samples_split` - минимальное число объектов в вершине, при котором происходит её разбиение (по умолчанию - 2); \n",
    "    `criterion` - критерий разбиения (для классификации - 'gini' или 'entropy', для регрессии - 'variance' или 'mad_median'; \n",
    "    по умолчанию - 'gini');\n",
    "    \n",
    "    Функционал, значение которого максимизируется для поиска оптимального разбиения в данной вершине имеет вид\n",
    "    $$Q(X, j, t) = F(X) - \\dfrac{|X_l|}{|X|} F(X_l) - \\dfrac{|X_r|}{|X|} F(X_r),$$\n",
    "    где $X$ - выборка, находящаяся в текущей вершине, $X_l$ и $X_r$ - разбиение выборки $X$ на две части \n",
    "    по предикату $[x_j < t]$, а $F(X)$ -критерий разбиения.\n",
    "    \n",
    "    Для классификации: пусть $p_i$ - доля объектов $i$-го класса в выборке $X$.\n",
    "    \n",
    "    'gini': Неопределенность Джини $F(X) = 1 -\\sum_{i = 1}^K p_i^2$.\n",
    "    \n",
    "    'entropy': Энтропия $F(X) = -\\sum_{i = 1}^K p_i \\log_2(p_i)$.\n",
    "    \n",
    "    Для регрессии: $y_j = y(x_j)$ - ответ на объекте $x_j$, $y = (y_1, \\dots, y_{|X|})$ - вектор ответов.\n",
    "    \n",
    "    'variance': Дисперсия (среднее квадратичное отклонение от среднего) $F(X) = \\dfrac{1}{|X|} \\sum_{x_j \\in X}(y_j - \\dfrac{1}{|X|}\\sum_{x_i \\in X}y_i)^2$\n",
    "    \n",
    "    'mad_median': Среднее отклонение от медианы $F(X) = \\dfrac{1}{|X|} \\sum_{x_j \\in X}|y_j - \\mathrm{med}(y)|$\n",
    "    \n",
    "- класс имеет методы `fit`, `predict` и `predict_proba`;\n",
    "- метод `fit` принимает матрицу объектов `X` и вектор ответов `y` (объекты `numpy.ndarray`) и возвращает экземпляр класса\n",
    "    `DecisionTree`, представляющий собой решающее дерево, обученное по выборке `(X, y)` с учётом заданных в конструкторе параметров; \n",
    "- метод `predict_proba` принимает матрицу объектов `X` и возвращает матрицу `P` размера `X.shape[0] x K`, где `K` - число классов, такую что $p_{ij}$ есть вероятность принадлежности объекта, заданного $i$-ой строкой матрицы X к классу $j \\in \\{1, \\dots, K\\}$.\n",
    "- метод `predict` принимает матрицу объектов и возвращает вектор предсказанных ответов; в случае классификации - это \n",
    "    наиболее многочисленный класс в листе, в который попал объект, а в случае регрессии - среднее значение ответов по \n",
    "    всем объектам этого листа;"
   ]
  },
  {
   "cell_type": "code",
   "execution_count": 40,
   "metadata": {
    "collapsed": false
   },
   "outputs": [],
   "source": [
    "from scipy import stats\n",
    "import numpy as np\n",
    "from binarytree import Node, show\n",
    "from sklearn.base import BaseEstimator\n",
    "from collections import Counter\n",
    "\n",
    "def entropy(y):\n",
    "    freq = stats.itemfreq(y)[:, 1]\n",
    "    freq = freq/len(y)\n",
    "    return -np.sum(freq*np.log2(freq))\n",
    "\n",
    "\n",
    "def gini(y):\n",
    "    freq = stats.itemfreq(y)[:, 1]\n",
    "    freq = freq/len(y)\n",
    "    return 1 - np.sum(freq**2)\n",
    "\n",
    "\n",
    "def variance(y):\n",
    "    return np.mean((y - np.mean(y))**2)\n",
    "\n",
    "\n",
    "def mad_median(y):\n",
    "    return np.mean(np.abs(y - np.median(y)))"
   ]
  },
  {
   "cell_type": "code",
   "execution_count": 45,
   "metadata": {
    "collapsed": false
   },
   "outputs": [],
   "source": [
    "class DecisionTree(BaseEstimator):\n",
    "    def __init__(self, max_depth=np.inf, min_samples_split=2,\n",
    "                 criterion=None, tree_type='classification', debug=False):\n",
    "        self.max_depth = max_depth\n",
    "        self.min_samples_split = min_samples_split\n",
    "        self.debug = debug\n",
    "        self.root = Node((None, None, None))\n",
    "        self.tree_type = tree_type\n",
    "        if tree_type == 'classification' and criterion is None:\n",
    "            criterion = 'gini'\n",
    "        elif tree_type == 'regression' and criterion is None:\n",
    "            criterion = 'variance'\n",
    "        if criterion is 'gini':\n",
    "            self.criterion_func = gini\n",
    "        elif criterion is 'entropy':\n",
    "            self.criterion_func = entropy\n",
    "        elif criterion is 'variance':\n",
    "            self.criterion_func = variance\n",
    "        elif criterion is 'mad_median':\n",
    "            self.criterion_func = mad_median\n",
    "\n",
    "    def fit(self, X, y):\n",
    "        self._fit(X, y, self.root)\n",
    "        return self\n",
    "\n",
    "    def _fit(self, X, y, node):\n",
    "        if self.min_samples_split >= len(y) or self.criterion_func(y) == 0:\n",
    "            node.value = (node.value[0], node.value[1], self._get_result(y))\n",
    "            return\n",
    "        criterion = self.criterion_func(y)\n",
    "        Qs = []\n",
    "        for feature_index in range(X.shape[1]):\n",
    "            x = X[:, feature_index]\n",
    "            bounds = DecisionTree._get_bounds(x, y)\n",
    "            for bound in bounds:\n",
    "                Qs.append(self._get_Q(criterion, x, y, feature_index, bound))\n",
    "        Q_max = max(Qs, key=lambda item: item['score'])\n",
    "        indices_left = X[:, Q_max['feature_index']] <= Q_max['bound']\n",
    "        indices_right = X[:, Q_max['feature_index']] > Q_max['bound']\n",
    "        node.value = (Q_max['feature_index'], Q_max['bound'], None)\n",
    "        node.left = Node((None, None, None))\n",
    "        node.right = Node((None, None, None))\n",
    "        self._fit(X[indices_left, :], y[indices_left], node.left)\n",
    "        self._fit(X[indices_right, :], y[indices_right], node.right)\n",
    "\n",
    "    def _get_Q(self, criterion, x, y, feature_index, bound):\n",
    "        indices_left = x <= bound\n",
    "        indices_right = x > bound\n",
    "        score = criterion - self.criterion_func(y[indices_left]) - self.criterion_func(y[indices_right])\n",
    "        return {\n",
    "            'score': score,\n",
    "            'feature_index': feature_index,\n",
    "            'bound': bound\n",
    "        }\n",
    "\n",
    "    def _get_result(self, y):\n",
    "        if self.tree_type == 'regression':\n",
    "            return np.mean(y)\n",
    "        elif self.tree_type == 'classification':\n",
    "            c = Counter(y)\n",
    "            return c.most_common(1)[0][0]\n",
    "\n",
    "    def predict(self, X):\n",
    "        result = []\n",
    "        for row in X:\n",
    "            node = self.root\n",
    "            while node.value[2] is None:\n",
    "                if row[node.value[0]] <= node.value[1]:\n",
    "                    node = node.left\n",
    "                else:\n",
    "                    node = node.right\n",
    "            result.append(node.value[2])\n",
    "        return np.array(result)\n",
    "\n",
    "    def predict_proba(self, X):\n",
    "        return self.predict(X)\n",
    "\n",
    "    @staticmethod\n",
    "    def _get_bounds(x, y):\n",
    "        data = np.zeros((len(x), 2))\n",
    "        data[:, 0] = x\n",
    "        data[:, 1] = y\n",
    "        data = data[data[:, 0].argsort()]\n",
    "        bounds = set()\n",
    "        current_item = data[0, 1]\n",
    "        for index in range(data.shape[0]):\n",
    "            if current_item != data[index][1]:\n",
    "                bound = (data[index][0] + data[index - 1][0])/2\n",
    "                current_item = data[index][1]\n",
    "                bounds.add(bound)\n",
    "        return np.array(list(bounds))"
   ]
  },
  {
   "cell_type": "markdown",
   "metadata": {},
   "source": [
    "## Тестирование реализованного алгоритма"
   ]
  },
  {
   "cell_type": "markdown",
   "metadata": {},
   "source": [
    "### Классификация"
   ]
  },
  {
   "cell_type": "markdown",
   "metadata": {},
   "source": [
    "С помощью метода `load_digits` загрузите датасет `digits`. Разделите выборку на обучающую и тестовую с помощью метода `train_test_split`, используйте значения параметров `test_size=0.2`, `random_state=17`. Попробуйте обучить неглубокие решающие деревья и убедитесь, что критерии gini и entropy дают разные результаты."
   ]
  },
  {
   "cell_type": "code",
   "execution_count": 46,
   "metadata": {
    "collapsed": true
   },
   "outputs": [],
   "source": [
    "from sklearn.datasets import load_digits\n",
    "from sklearn.model_selection import train_test_split"
   ]
  },
  {
   "cell_type": "code",
   "execution_count": 47,
   "metadata": {
    "collapsed": false
   },
   "outputs": [],
   "source": [
    "dataset = load_digits()\n",
    "X_train, X_test, y_train, y_test = train_test_split(dataset.data, dataset.target, test_size=0.2, random_state=17)"
   ]
  },
  {
   "cell_type": "markdown",
   "metadata": {},
   "source": [
    "С помощью 5-кратной кросс-валидации (`GridSearchCV`) подберите оптимальное значение параметров `max_depth` и `criterion`. Для параметра `max_depth` используйте диапазон значений - range(3, 11), а для criterion - {'gini', 'entropy'}. Критерий качества `scoring`='accuracy'."
   ]
  },
  {
   "cell_type": "code",
   "execution_count": null,
   "metadata": {
    "collapsed": false
   },
   "outputs": [],
   "source": [
    "tree = DecisionTree()\n",
    "tree.fit(X_train, y_train)"
   ]
  },
  {
   "cell_type": "code",
   "execution_count": 43,
   "metadata": {
    "collapsed": false
   },
   "outputs": [
    {
     "data": {
      "text/plain": [
       "0.99652052887961029"
      ]
     },
     "execution_count": 43,
     "metadata": {},
     "output_type": "execute_result"
    }
   ],
   "source": [
    "accuracy_score(tree.predict(X_train), y_train)"
   ]
  },
  {
   "cell_type": "code",
   "execution_count": 38,
   "metadata": {
    "collapsed": false
   },
   "outputs": [
    {
     "data": {
      "text/plain": [
       "array([1, 9])"
      ]
     },
     "execution_count": 38,
     "metadata": {},
     "output_type": "execute_result"
    }
   ],
   "source": [
    "y_train[:2]"
   ]
  },
  {
   "cell_type": "code",
   "execution_count": 40,
   "metadata": {
    "collapsed": false
   },
   "outputs": [
    {
     "data": {
      "text/plain": [
       "DecisionTreeClassifier(class_weight=None, criterion='gini', max_depth=None,\n",
       "            max_features=None, max_leaf_nodes=None,\n",
       "            min_impurity_split=1e-07, min_samples_leaf=1,\n",
       "            min_samples_split=2, min_weight_fraction_leaf=0.0,\n",
       "            presort=False, random_state=None, splitter='best')"
      ]
     },
     "execution_count": 40,
     "metadata": {},
     "output_type": "execute_result"
    }
   ],
   "source": [
    "from sklearn.tree import DecisionTreeClassifier\n",
    "tree_c = DecisionTreeClassifier()\n",
    "tree_c.fit(X_train, y_train)"
   ]
  },
  {
   "cell_type": "code",
   "execution_count": 42,
   "metadata": {
    "collapsed": false
   },
   "outputs": [
    {
     "data": {
      "text/plain": [
       "1.0"
      ]
     },
     "execution_count": 42,
     "metadata": {},
     "output_type": "execute_result"
    }
   ],
   "source": [
    "accuracy_score(tree_c.predict(X_train), y_train)"
   ]
  },
  {
   "cell_type": "markdown",
   "metadata": {},
   "source": [
    "Постройте графики средних значений критерия качества `accuracy` для критериев `gini` и `entropy` в зависимости от `max_depth`."
   ]
  },
  {
   "cell_type": "code",
   "execution_count": 9,
   "metadata": {
    "collapsed": false,
    "scrolled": true
   },
   "outputs": [
    {
     "data": {
      "text/plain": [
       "{'mean_fit_time': array([ 0.00411911,  0.00520477,  0.00600557,  0.00700917,  0.00790739,\n",
       "         0.0087069 ,  0.00930557,  0.00950737,  0.00500736,  0.00680437,\n",
       "         0.00890861,  0.01060815,  0.01221147,  0.0131135 ,  0.01331282,\n",
       "         0.01331263]),\n",
       " 'mean_score_time': array([  4.03928757e-04,   2.00366974e-04,   2.00128555e-04,\n",
       "          3.00455093e-04,   2.00223923e-04,   9.99927521e-05,\n",
       "          2.00271606e-04,   3.00168991e-04,   9.98973846e-05,\n",
       "          2.00319290e-04,   1.00088120e-04,   4.02688980e-04,\n",
       "          2.00271606e-04,   1.00183487e-04,   3.00168991e-04,\n",
       "          9.99450684e-05]),\n",
       " 'mean_test_score': array([ 0.48086291,  0.56924148,  0.67292971,  0.76130828,  0.81002088,\n",
       "         0.83924843,  0.84759916,  0.85038274,  0.53235908,  0.6750174 ,\n",
       "         0.76548365,  0.82602644,  0.85038274,  0.86917189,  0.86430063,\n",
       "         0.8670842 ]),\n",
       " 'mean_train_score': array([ 0.48870313,  0.59239532,  0.70077594,  0.81699509,  0.90032478,\n",
       "         0.93895097,  0.96625943,  0.98452224,  0.5535746 ,  0.69594657,\n",
       "         0.81998184,  0.89842776,  0.94748125,  0.97860703,  0.99287012,\n",
       "         0.99843688]),\n",
       " 'param_criterion': masked_array(data = ['gini' 'gini' 'gini' 'gini' 'gini' 'gini' 'gini' 'gini' 'entropy'\n",
       "  'entropy' 'entropy' 'entropy' 'entropy' 'entropy' 'entropy' 'entropy'],\n",
       "              mask = [False False False False False False False False False False False False\n",
       "  False False False False],\n",
       "        fill_value = ?),\n",
       " 'param_max_depth': masked_array(data = [3 4 5 6 7 8 9 10 3 4 5 6 7 8 9 10],\n",
       "              mask = [False False False False False False False False False False False False\n",
       "  False False False False],\n",
       "        fill_value = ?),\n",
       " 'params': ({'criterion': 'gini', 'max_depth': 3},\n",
       "  {'criterion': 'gini', 'max_depth': 4},\n",
       "  {'criterion': 'gini', 'max_depth': 5},\n",
       "  {'criterion': 'gini', 'max_depth': 6},\n",
       "  {'criterion': 'gini', 'max_depth': 7},\n",
       "  {'criterion': 'gini', 'max_depth': 8},\n",
       "  {'criterion': 'gini', 'max_depth': 9},\n",
       "  {'criterion': 'gini', 'max_depth': 10},\n",
       "  {'criterion': 'entropy', 'max_depth': 3},\n",
       "  {'criterion': 'entropy', 'max_depth': 4},\n",
       "  {'criterion': 'entropy', 'max_depth': 5},\n",
       "  {'criterion': 'entropy', 'max_depth': 6},\n",
       "  {'criterion': 'entropy', 'max_depth': 7},\n",
       "  {'criterion': 'entropy', 'max_depth': 8},\n",
       "  {'criterion': 'entropy', 'max_depth': 9},\n",
       "  {'criterion': 'entropy', 'max_depth': 10}),\n",
       " 'rank_test_score': array([16, 14, 13, 11,  9,  7,  6,  4, 15, 12, 10,  8,  4,  1,  3,  2]),\n",
       " 'split0_test_score': array([ 0.47079038,  0.54639175,  0.67010309,  0.74570447,  0.78694158,\n",
       "         0.83848797,  0.83505155,  0.84536082,  0.53264605,  0.6975945 ,\n",
       "         0.77319588,  0.81099656,  0.83505155,  0.83161512,  0.84536082,\n",
       "         0.82817869]),\n",
       " 'split0_train_score': array([ 0.48603839,  0.59511344,  0.70244328,  0.82373473,  0.90226876,\n",
       "         0.94240838,  0.96771379,  0.98516579,  0.53664921,  0.72949389,\n",
       "         0.84205934,  0.90663176,  0.95636998,  0.97643979,  0.9921466 ,\n",
       "         0.9982548 ]),\n",
       " 'split1_test_score': array([ 0.4567474 ,  0.56401384,  0.67128028,  0.7716263 ,  0.79238754,\n",
       "         0.81314879,  0.85121107,  0.85467128,  0.51211073,  0.6816609 ,\n",
       "         0.816609  ,  0.84083045,  0.8615917 ,  0.8650519 ,  0.8615917 ,\n",
       "         0.84083045]),\n",
       " 'split1_train_score': array([ 0.49912892,  0.6054007 ,  0.71167247,  0.82229965,  0.90505226,\n",
       "         0.94686411,  0.97473868,  0.99216028,  0.55226481,  0.70993031,\n",
       "         0.85714286,  0.92421603,  0.96428571,  0.98780488,  0.99825784,  1.        ]),\n",
       " 'split2_test_score': array([ 0.47404844,  0.55363322,  0.67128028,  0.75086505,  0.79584775,\n",
       "         0.84429066,  0.85121107,  0.84083045,  0.51903114,  0.64705882,\n",
       "         0.69204152,  0.81314879,  0.83391003,  0.87543253,  0.83737024,\n",
       "         0.87543253]),\n",
       " 'split2_train_score': array([ 0.49825784,  0.59581882,  0.70383275,  0.82491289,  0.90766551,\n",
       "         0.94512195,  0.96864111,  0.98432056,  0.56271777,  0.69425087,\n",
       "         0.79703833,  0.89808362,  0.94599303,  0.97909408,  0.9912892 ,\n",
       "         0.99912892]),\n",
       " 'split3_test_score': array([ 0.4877193 ,  0.57192982,  0.66666667,  0.76491228,  0.84912281,\n",
       "         0.86315789,  0.85614035,  0.87017544,  0.56491228,  0.67719298,\n",
       "         0.79649123,  0.80701754,  0.83859649,  0.87368421,  0.87368421,\n",
       "         0.86315789]),\n",
       " 'split3_train_score': array([ 0.47222222,  0.57638889,  0.68229167,  0.79427083,  0.88975694,\n",
       "         0.92795139,  0.95746528,  0.9765625 ,  0.57118056,  0.67534722,\n",
       "         0.81684028,  0.87065972,  0.92708333,  0.97482639,  0.99305556,  1.        ]),\n",
       " 'split4_test_score': array([ 0.51590106,  0.61130742,  0.68551237,  0.77385159,  0.82685512,\n",
       "         0.83745583,  0.84452297,  0.8409894 ,  0.5335689 ,  0.67137809,\n",
       "         0.74911661,  0.85865724,  0.88339223,  0.90106007,  0.90459364,\n",
       "         0.92932862]),\n",
       " 'split4_train_score': array([ 0.48786828,  0.58925477,  0.70363951,  0.81975737,  0.89688042,\n",
       "         0.93240901,  0.9627383 ,  0.98440208,  0.54506066,  0.67071057,\n",
       "         0.78682842,  0.89254766,  0.94367418,  0.97487002,  0.98960139,\n",
       "         0.99480069]),\n",
       " 'std_fit_time': array([  3.62291365e-04,   7.47920543e-04,   2.78041453e-07,\n",
       "          5.66333212e-06,   3.74355557e-04,   5.07801677e-04,\n",
       "          5.13774781e-04,   5.45116715e-04,   3.16537586e-04,\n",
       "          2.43388476e-04,   3.74635652e-04,   3.78135847e-04,\n",
       "          5.10211027e-04,   3.74425884e-04,   5.10267384e-04,\n",
       "          6.00870645e-04]),\n",
       " 'std_score_time': array([ 0.00038025,  0.00040073,  0.00040026,  0.00024532,  0.00024522,\n",
       "         0.00019999,  0.00024528,  0.00024509,  0.00019979,  0.00024534,\n",
       "         0.00020018,  0.00020139,  0.00024528,  0.00020037,  0.00024509,\n",
       "         0.00019989]),\n",
       " 'std_test_score': array([ 0.01994849,  0.02258638,  0.00645537,  0.01123439,  0.02387146,\n",
       "         0.01600742,  0.00731181,  0.01105574,  0.01812891,  0.01651824,\n",
       "         0.04319623,  0.02011294,  0.01922441,  0.02238813,  0.02360449,\n",
       "         0.03500319]),\n",
       " 'std_train_score': array([ 0.00979191,  0.00953223,  0.00980538,  0.01149152,  0.00638055,\n",
       "         0.0074356 ,  0.00582101,  0.004943  ,  0.01228201,  0.02184048,\n",
       "         0.0264718 ,  0.01753909,  0.01260304,  0.00485372,  0.0029247 ,\n",
       "         0.0019298 ])}"
      ]
     },
     "execution_count": 9,
     "metadata": {},
     "output_type": "execute_result"
    }
   ],
   "source": [
    "from sklearn.tree import DecisionTreeClassifier\n",
    "params = {\n",
    "    'max_depth': range(3, 11),\n",
    "    'criterion': ['gini', 'entropy'],\n",
    "    \n",
    "}\n",
    "tree = DecisionTreeClassifier()\n",
    "grid_cv = GridSearchCV(tree, params, cv=5, scoring='accuracy')\n",
    "grid_cv.fit(X_train, y_train)\n",
    "grid_cv.cv_results_"
   ]
  },
  {
   "cell_type": "code",
   "execution_count": 17,
   "metadata": {
    "collapsed": false
   },
   "outputs": [
    {
     "data": {
      "text/plain": [
       "[<matplotlib.lines.Line2D at 0x25ec0173320>]"
      ]
     },
     "execution_count": 17,
     "metadata": {},
     "output_type": "execute_result"
    },
    {
     "data": {
      "image/png": "[encoded data removed]",
      "text/plain": [
       "<matplotlib.figure.Figure at 0x25ec019f9b0>"
      ]
     },
     "metadata": {},
     "output_type": "display_data"
    }
   ],
   "source": [
    "plt.figure(figsize=(15, 10))\n",
    "plt.plot([item['max_depth'] for item in grid_cv.cv_results_['params'][:8]], grid_cv.cv_results_['mean_test_score'][:8], 'r')\n",
    "plt.plot([item['max_depth'] for item in grid_cv.cv_results_['params'][8:]], grid_cv.cv_results_['mean_test_score'][8:], 'b')"
   ]
  },
  {
   "cell_type": "markdown",
   "metadata": {},
   "source": [
    "**Выберите верные утверждения:**\n",
    "1. Оптимальное значение max_depth для каждого критерия достигается внутри отрезка [3, 10] (то есть на отрезке [4, 9]).\n",
    "2. **На отрезке [3, 10] построенные графики не пересекаются.**\n",
    "3. На отрезке [3, 10] построенные графики пересекаются ровно один раз.\n",
    "4. Наилучшее качество при max_depth на интервале [3, 10] достигается на критерии gini.\n",
    "5. **Хотя бы для одного из критериев значение accuracy строго возрастает с ростом значения max_depth на интервале [3, 10].**"
   ]
  },
  {
   "cell_type": "markdown",
   "metadata": {},
   "source": [
    "**Чему равны найденные оптимальные значения параметров max_depth и criterion?**\n",
    "1. max_depth = 4, criterion = 'gini';\n",
    "2. max_depth = 7, criterion = 'entropy';\n",
    "3. max_depth = 10, criterion = 'entropy';\n",
    "4. **max_depth = 10, criterion = 'gini';**\n",
    "5. max_depth = 3, criterion = 'entropy';\n",
    "6. max_depth = 9, criterion = 'gini';"
   ]
  },
  {
   "cell_type": "markdown",
   "metadata": {},
   "source": [
    "Используя найденные оптимальные значения max_depth и criterion, обучите решающее дерево на X_train, y_train и вычислите вероятности принадлежности к классам для X_test."
   ]
  },
  {
   "cell_type": "code",
   "execution_count": 36,
   "metadata": {
    "collapsed": false
   },
   "outputs": [
    {
     "data": {
      "text/plain": [
       "array([ 0.08888889,  0.08533615,  0.10021605,  0.09763419,  0.12412698,\n",
       "        0.10787037,  0.07777778,  0.09027778,  0.11215062,  0.11572119])"
      ]
     },
     "execution_count": 36,
     "metadata": {},
     "output_type": "execute_result"
    }
   ],
   "source": [
    "np.mean(grid_cv.best_estimator_.predict_proba(X_test), axis=0)"
   ]
  },
  {
   "cell_type": "code",
   "execution_count": 22,
   "metadata": {
    "collapsed": false
   },
   "outputs": [
    {
     "data": {
      "text/plain": [
       "(360, 64)"
      ]
     },
     "execution_count": 22,
     "metadata": {},
     "output_type": "execute_result"
    }
   ],
   "source": [
    "X_test.shape"
   ]
  },
  {
   "cell_type": "markdown",
   "metadata": {},
   "source": [
    "Для полученной матрицы вычислите усредненные по всем объектам из `X_test` значения вероятностей принадлежности к классам."
   ]
  },
  {
   "cell_type": "markdown",
   "metadata": {},
   "source": [
    "**Вопрос:** Чему равна максимальная вероятность в полученном векторе?\n",
    "1. 0.11218791\n",
    "2. 0.11783761\n",
    "3. 1.0\n",
    "4. 0.0875"
   ]
  },
  {
   "cell_type": "markdown",
   "metadata": {},
   "source": [
    "### Регрессия"
   ]
  },
  {
   "cell_type": "markdown",
   "metadata": {},
   "source": [
    "С помощью метода `load_boston` загрузите датасет `boston`. Разделите выборку на обучающую и тестовую с помощью метода `train_test_split`, используйте значения параметров `test_size=0.2`, `random_state=17`. Попробуйте обучить неглубокие регрессионные деревья и убедитесь, что критерии `variance` и `mad_median` дают разные результаты."
   ]
  },
  {
   "cell_type": "code",
   "execution_count": null,
   "metadata": {
    "collapsed": true
   },
   "outputs": [],
   "source": [
    "# Ваш код здесь"
   ]
  },
  {
   "cell_type": "markdown",
   "metadata": {},
   "source": [
    "С помощью 5-кратной кросс-валидации подберите оптимальное значение параметров `max_depth` и `criterion`. Для параметра `max_depth` используйте диапазон значений - `range(2, 9)`, а для `criterion` - {'variance', 'mad_median'}. Критерий качества `scoring`='neg_mean_squared_error'."
   ]
  },
  {
   "cell_type": "code",
   "execution_count": null,
   "metadata": {
    "collapsed": true
   },
   "outputs": [],
   "source": [
    "# Ваш код здесь"
   ]
  },
  {
   "cell_type": "markdown",
   "metadata": {},
   "source": [
    "Постройте графики средних значений критерия качества `neg_mean_squared_error` для критериев `variance` и `mad_median` в зависимости от `max_depth`."
   ]
  },
  {
   "cell_type": "code",
   "execution_count": null,
   "metadata": {
    "collapsed": true
   },
   "outputs": [],
   "source": [
    "# Ваш код здесь"
   ]
  },
  {
   "cell_type": "markdown",
   "metadata": {},
   "source": [
    "**Выберите верные утверждения:**\n",
    "1. На отрезке [2, 8] построенные графики не пересекаются.\n",
    "2. На отрезке [2, 8] построенные графики пересекаются ровно один раз.\n",
    "3. Оптимальное значение max_depth для каждого из критериев достигается на границе отрезка [2, 8].\n",
    "4. Наилучшее качество при max_depth in range(2, 9) достигается на критерии variance.\n",
    "5. График качества ровно для одного из критериев имеет явно выраженный пик."
   ]
  },
  {
   "cell_type": "markdown",
   "metadata": {},
   "source": [
    "**Чему равны найденные оптимальные значения параметров `max_depth` и `criterion`?**\n",
    "1. max_depth = 9, criterion = 'variance';\n",
    "2. max_depth = 5, criterion = 'mad_median';\n",
    "3. max_depth = 4, criterion = 'variance';\n",
    "4. max_depth = 2, criterion = 'mad_median';\n",
    "5. max_depth = 4, criterion = 'mad_median';\n",
    "6. max_depth = 8, criterion = 'variance';"
   ]
  }
 ],
 "metadata": {
  "kernelspec": {
   "display_name": "Python 3",
   "language": "python",
   "name": "python3"
  },
  "language_info": {
   "codemirror_mode": {
    "name": "ipython",
    "version": 3
   },
   "file_extension": ".py",
   "mimetype": "text/x-python",
   "name": "python",
   "nbconvert_exporter": "python",
   "pygments_lexer": "ipython3",
   "version": "3.6.0"
  },
  "name": "lesson4_part2_Decision_trees.ipynb"
 },
 "nbformat": 4,
 "nbformat_minor": 1
}
